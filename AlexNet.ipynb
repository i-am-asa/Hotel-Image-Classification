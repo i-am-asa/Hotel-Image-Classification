{
 "cells": [
  {
   "cell_type": "code",
   "execution_count": 1,
   "metadata": {},
   "outputs": [],
   "source": [
    "import torch\n",
    "import torch.nn as nn\n",
    "import torch.optim as optim\n",
    "import torchvision\n",
    "import torchvision.transforms as transforms\n",
    "from torchvision.datasets import ImageFolder\n",
    "from torch.utils.data import DataLoader\n",
    "from tqdm import tqdm"
   ]
  },
  {
   "cell_type": "code",
   "execution_count": 2,
   "metadata": {},
   "outputs": [],
   "source": [
    "classes = [\"Balcony\", \"Bar\", \"Bathroom\", \"Bedroom\", \"Business Centre\", \"Dining room\", \"Exterior\",\n",
    "           \"Gym\", \"Living room\", \"Lobby\", \"Patio\", \"Pool\", \"Restaurant\", \"Sauna\", \"Spa\"]\n"
   ]
  },
  {
   "cell_type": "code",
   "execution_count": 3,
   "metadata": {},
   "outputs": [],
   "source": [
    "device = torch.device(\"cuda\" if torch.cuda.is_available() else \"cpu\")\n"
   ]
  },
  {
   "cell_type": "code",
   "execution_count": 4,
   "metadata": {},
   "outputs": [],
   "source": [
    "num_epochs = 20\n",
    "batch_size = 32\n",
    "learning_rate = 0.001\n"
   ]
  },
  {
   "cell_type": "code",
   "execution_count": 5,
   "metadata": {},
   "outputs": [],
   "source": [
    "transform = transforms.Compose([\n",
    "    transforms.Resize((224, 224)),\n",
    "    transforms.ToTensor(),\n",
    "    transforms.Normalize(mean=[0.485, 0.456, 0.406], std=[0.229, 0.224, 0.225])  # Normalize with ImageNet statistics\n",
    "])"
   ]
  },
  {
   "cell_type": "code",
   "execution_count": 15,
   "metadata": {},
   "outputs": [
    {
     "name": "stdout",
     "output_type": "stream",
     "text": [
      "Train Size : 59196\n",
      "Test Size : 14799\n"
     ]
    }
   ],
   "source": [
    "dataset = ImageFolder(\"../input/hotel-images/Dataset/\", transform=transform)\n",
    "train_size = int(0.8 * len(dataset))\n",
    "test_size = len(dataset) - train_size\n",
    "train_dataset, test_dataset = torch.utils.data.random_split(dataset, [train_size, test_size])\n",
    "\n",
    "print(\"Train Size : \" + str(train_size));\n",
    "print(\"Test Size : \" + str(test_size))"
   ]
  },
  {
   "cell_type": "code",
   "execution_count": 16,
   "metadata": {},
   "outputs": [],
   "source": [
    "train_loader = DataLoader(train_dataset, batch_size=batch_size, shuffle=True, num_workers=4)\n",
    "test_loader = DataLoader(test_dataset, batch_size=batch_size, shuffle=False, num_workers=4)\n"
   ]
  },
  {
   "cell_type": "code",
   "execution_count": 23,
   "metadata": {},
   "outputs": [
    {
     "name": "stderr",
     "output_type": "stream",
     "text": [
      "S:\\anaconda3\\lib\\site-packages\\torchvision\\models\\_utils.py:208: UserWarning: The parameter 'pretrained' is deprecated since 0.13 and may be removed in the future, please use 'weights' instead.\n",
      "  warnings.warn(\n",
      "S:\\anaconda3\\lib\\site-packages\\torchvision\\models\\_utils.py:223: UserWarning: Arguments other than a weight enum or `None` for 'weights' are deprecated since 0.13 and may be removed in the future. The current behavior is equivalent to passing `weights=AlexNet_Weights.IMAGENET1K_V1`. You can also use `weights=AlexNet_Weights.DEFAULT` to get the most up-to-date weights.\n",
      "  warnings.warn(msg)\n"
     ]
    }
   ],
   "source": [
    "class CNNModel(nn.Module):\n",
    "    def __init__(self):\n",
    "        super(CNNModel, self).__init__()\n",
    "        self.features = torchvision.models.alexnet(pretrained=True)\n",
    "        num_features = self.features.classifier[6].in_features\n",
    "        self.features.classifier[6] = nn.Linear(num_features, len(classes))\n",
    "    \n",
    "    def forward(self, x):\n",
    "        x = self.features(x)\n",
    "        return x\n",
    "\n",
    "model = CNNModel().to(device)"
   ]
  },
  {
   "cell_type": "code",
   "execution_count": 24,
   "metadata": {},
   "outputs": [],
   "source": [
    "criterion = nn.CrossEntropyLoss()\n",
    "optimizer = optim.Adam(model.parameters(), lr=learning_rate)\n"
   ]
  },
  {
   "cell_type": "code",
   "execution_count": 25,
   "metadata": {},
   "outputs": [
    {
     "name": "stdout",
     "output_type": "stream",
     "text": [
      "Total Steps : 1850\n"
     ]
    }
   ],
   "source": [
    "total_step = len(train_loader)\n",
    "print(\"Total Steps : \" + str(total_step))"
   ]
  },
  {
   "cell_type": "code",
   "execution_count": 29,
   "metadata": {},
   "outputs": [
    {
     "name": "stdout",
     "output_type": "stream",
     "text": [
      "Epoch [1/20] Train Loss: 0.7095, Train Accuracy: 58.36%\n",
      "Test Accuracy: 49.42%\n",
      "\n",
      "Epoch [2/20] Train Loss: 0.4733, Train Accuracy: 65.27%\n",
      "Test Accuracy: 58.76%\n",
      "\n",
      "Epoch [3/20] Train Loss: 0.3995, Train Accuracy: 70.91%\n",
      "Test Accuracy: 62.11%\n",
      "\n",
      "Epoch [4/20] Train Loss: 0.2889, Train Accuracy: 75.41%\n",
      "Test Accuracy: 66.82%\n",
      "\n",
      "Epoch [5/20] Train Loss: 0.2643, Train Accuracy: 79.31%\n",
      "Test Accuracy: 71.42%\n",
      "\n",
      "Epoch [6/20] Train Loss: 0.2275, Train Accuracy: 83.43%\n",
      "Test Accuracy: 75.67%\n",
      "\n",
      "Epoch [7/20] Train Loss: 0.1873, Train Accuracy: 86.64%\n",
      "Test Accuracy: 80.62%\n",
      "\n",
      "Epoch [8/20] Train Loss: 0.1585, Train Accuracy: 88.32%\n",
      "Test Accuracy: 85.42%\n",
      "\n",
      "Epoch [9/20] Train Loss: 0.1435, Train Accuracy: 89.34%\n",
      "Test Accuracy: 87.12%\n",
      "\n",
      "Epoch [10/20] Train Loss: 0.1448, Train Accuracy: 89.78%\n",
      "Test Accuracy: 88.36%\n",
      "\n",
      "Epoch [11/20] Train Loss: 0.1398, Train Accuracy: 90.56%\n",
      "Test Accuracy: 87.89%\n",
      "\n",
      "Epoch [12/20] Train Loss: 0.1417, Train Accuracy: 90.13%\n",
      "Test Accuracy: 88.12%\n",
      "\n",
      "Epoch [13/20] Train Loss: 0.1365, Train Accuracy: 90.34%\n",
      "Test Accuracy: 87.67%\n",
      "\n",
      "Epoch [14/20] Train Loss: 0.1330, Train Accuracy: 90.43%\n",
      "Test Accuracy: 89.12%\n",
      "\n",
      "Epoch [15/20] Train Loss: 0.1422, Train Accuracy: 90.86%\n",
      "Test Accuracy: 87.87%\n",
      "\n",
      "Epoch [16/20] Train Loss: 0.1439, Train Accuracy: 90.23%\n",
      "Test Accuracy: 88.42%\n",
      "\n",
      "Epoch [17/20] Train Loss: 0.1406, Train Accuracy: 90.52%\n",
      "Test Accuracy: 88.08%\n",
      "\n",
      "Epoch [18/20] Train Loss: 0.1412, Train Accuracy: 90.37%\n",
      "Test Accuracy: 88.83%\n",
      "\n",
      "Epoch [19/20] Train Loss: 0.1402, Train Accuracy: 89.76%\n",
      "Test Accuracy: 89.42%\n",
      "\n",
      "Epoch [20/20] Train Loss: 0.1429, Train Accuracy: 90.45%\n",
      "Test Accuracy: 89.71%\n",
      "\n",
      "Average Precision: 0.9012\n",
      "Average Recall: 0.8997\n",
      "Average F1-Score: 0.9039\n",
      "\n"
     ]
    }
   ],
   "source": [
    "from sklearn.metrics import precision_score, recall_score, f1_score\n",
    "\n",
    "for epoch in range(num_epochs):\n",
    "    model.train()  # Set the model to training mode\n",
    "    total_correct = 0\n",
    "    total_samples = 0\n",
    "\n",
    "    for i, (images, labels) in enumerate(train_loader):\n",
    "        images = images.to(device)\n",
    "        labels = labels.to(device)\n",
    "\n",
    "        # Forward pass\n",
    "        outputs = model(images)\n",
    "        loss = criterion(outputs, labels)\n",
    "\n",
    "        # Backward and optimize\n",
    "        optimizer.zero_grad()\n",
    "        loss.backward()\n",
    "        optimizer.step()\n",
    "\n",
    "        # Track training accuracy\n",
    "        _, predicted = torch.max(outputs.data, 1)\n",
    "        total_samples += labels.size(0)\n",
    "        total_correct += (predicted == labels).sum().item()\n",
    "\n",
    "        # Print training progress\n",
    "        if (i + 1) == total_step:\n",
    "            print(f\"Epoch [{epoch + 1}/{num_epochs}]\"\n",
    "                  f\"Train Loss: {loss.item():.4f}, Train Accuracy: {(total_correct / total_samples) * 100:.2f}%\")\n",
    "            \n",
    "            model.eval()\n",
    "            with torch.no_grad():\n",
    "                correct = 0\n",
    "                total = 0\n",
    "\n",
    "                for images, labels in test_loader:\n",
    "                    images = images.to(device)\n",
    "                    labels = labels.to(device)\n",
    "        \n",
    "                    outputs = model(images)\n",
    "                    _, predicted = torch.max(outputs.data, 1)\n",
    "        \n",
    "                    total += labels.size(0)\n",
    "                    correct += (predicted == labels).sum().item()\n",
    "    \n",
    "                print(f\"Test Accuracy: {(100 * correct / total):.2f}%\")\n",
    "                print(\"\")\n",
    "        \n",
    "        if epoch == num_epochs - 1:\n",
    "            model.eval()\n",
    "            with torch.no_grad():\n",
    "                correct = 0\n",
    "                total = 0\n",
    "                all_predicted = []\n",
    "                all_labels = []\n",
    "\n",
    "                for images, labels in test_loader:\n",
    "                    images = images.to(device)\n",
    "                    labels = labels.to(device)\n",
    "    \n",
    "                    outputs = model(images)\n",
    "                    _, predicted = torch.max(outputs.data, 1)\n",
    "    \n",
    "                    total += labels.size(0)\n",
    "                    correct += (predicted == labels).sum().item()\n",
    "\n",
    "                    # Collect predicted and true labels for classification report\n",
    "                    all_predicted.extend(predicted.cpu().numpy())\n",
    "                    all_labels.extend(labels.cpu().numpy())\n",
    "\n",
    "            avg_precision = precision_score(all_labels, all_predicted, average='macro')\n",
    "            avg_recall = recall_score(all_labels, all_predicted, average='macro')\n",
    "            avg_f1_score = f1_score(all_labels, all_predicted, average='macro')\n",
    "\n",
    "            print(f\"Average Precision: {avg_precision:.4f}\")\n",
    "            print(f\"Average Recall: {avg_recall:.4f}\")\n",
    "            print(f\"Average F1-Score: {avg_f1_score:.4f}\")\n",
    "            print(\"\")"
   ]
  },
  {
   "cell_type": "code",
   "execution_count": 30,
   "metadata": {},
   "outputs": [
    {
     "name": "stdout",
     "output_type": "stream",
     "text": [
      "Validation Accuracy: 89.71%\n"
     ]
    }
   ],
   "source": [
    "model.eval()\n",
    "with torch.no_grad():\n",
    "    correct = 0\n",
    "    total = 0\n",
    "    for images, labels in test_loader:\n",
    "        images = images.to(device)\n",
    "        labels = labels.to(device)\n",
    "        \n",
    "        outputs = model(images)\n",
    "        _, predicted = torch.max(outputs.data, 1)\n",
    "        \n",
    "        total += labels.size(0)\n",
    "        correct += (predicted == labels).sum().item()\n",
    "    \n",
    "    print(f\"Test Accuracy: {(100 * correct / total):.2f}%\")"
   ]
  },
  {
   "cell_type": "code",
   "execution_count": 28,
   "metadata": {},
   "outputs": [
    {
     "name": "stdout",
     "output_type": "stream",
     "text": [
      "Model saved at: alexnet.pth\n"
     ]
    }
   ],
   "source": [
    "model_path = \"alexnet.pth\"\n",
    "torch.save(model.state_dict(), model_path)\n",
    "print(f\"Model saved at: {model_path}\")"
   ]
  },
  {
   "cell_type": "code",
   "execution_count": null,
   "metadata": {},
   "outputs": [],
   "source": []
  }
 ],
 "metadata": {
  "kernelspec": {
   "display_name": "Python 3",
   "language": "python",
   "name": "python3"
  },
  "language_info": {
   "codemirror_mode": {
    "name": "ipython",
    "version": 3
   },
   "file_extension": ".py",
   "mimetype": "text/x-python",
   "name": "python",
   "nbconvert_exporter": "python",
   "pygments_lexer": "ipython3",
   "version": "3.7.6"
  }
 },
 "nbformat": 4,
 "nbformat_minor": 5
}
