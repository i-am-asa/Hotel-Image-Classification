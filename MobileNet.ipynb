{
 "cells": [
  {
   "cell_type": "code",
   "execution_count": 1,
   "metadata": {},
   "outputs": [],
   "source": [
    "import torch\n",
    "import torch.nn as nn\n",
    "import torch.optim as optim\n",
    "import torchvision\n",
    "import torchvision.transforms as transforms\n",
    "from torchvision.datasets import ImageFolder\n",
    "from torch.utils.data import DataLoader\n",
    "from tqdm import tqdm"
   ]
  },
  {
   "cell_type": "code",
   "execution_count": 2,
   "metadata": {},
   "outputs": [],
   "source": [
    "classes = [\"Balcony\", \"Bar\", \"Bathroom\", \"Bedroom\", \"Business Centre\", \"Dining room\", \"Exterior\",\n",
    "           \"Gym\", \"Living room\", \"Lobby\", \"Patio\", \"Pool\", \"Restaurant\", \"Sauna\", \"Spa\"]\n"
   ]
  },
  {
   "cell_type": "code",
   "execution_count": 3,
   "metadata": {},
   "outputs": [],
   "source": [
    "device = torch.device(\"cuda\" if torch.cuda.is_available() else \"cpu\")\n"
   ]
  },
  {
   "cell_type": "code",
   "execution_count": 4,
   "metadata": {},
   "outputs": [],
   "source": [
    "num_epochs = 20\n",
    "batch_size = 32\n",
    "learning_rate = 0.001\n"
   ]
  },
  {
   "cell_type": "code",
   "execution_count": 6,
   "metadata": {},
   "outputs": [],
   "source": [
    "transform = transforms.Compose([\n",
    "    transforms.Resize((224, 224)),\n",
    "    transforms.ToTensor(),\n",
    "    transforms.Normalize(mean=[0.485, 0.456, 0.406], std=[0.229, 0.224, 0.225])  # Normalize with ImageNet statistics\n",
    "])"
   ]
  },
  {
   "cell_type": "code",
   "execution_count": 8,
   "metadata": {},
   "outputs": [
    {
     "name": "stdout",
     "output_type": "stream",
     "text": [
      "Train Size : 59196\n",
      "Test Size : 14799\n"
     ]
    }
   ],
   "source": [
    "dataset = ImageFolder(\"Dataset/\", transform=transform)\n",
    "train_size = int(0.8 * len(dataset))\n",
    "test_size = len(dataset) - train_size\n",
    "train_dataset, test_dataset = torch.utils.data.random_split(dataset, [train_size, test_size])\n",
    "\n",
    "print(\"Train Size : \" + str(train_size));\n",
    "print(\"Test Size : \" + str(test_size))"
   ]
  },
  {
   "cell_type": "code",
   "execution_count": 9,
   "metadata": {},
   "outputs": [],
   "source": [
    "train_loader = DataLoader(train_dataset, batch_size=batch_size, shuffle=True, num_workers=4)\n",
    "test_loader = DataLoader(test_dataset, batch_size=batch_size, shuffle=False, num_workers=4)\n"
   ]
  },
  {
   "cell_type": "code",
   "execution_count": 13,
   "metadata": {},
   "outputs": [
    {
     "name": "stderr",
     "output_type": "stream",
     "text": [
      "S:\\anaconda3\\lib\\site-packages\\torchvision\\models\\_utils.py:223: UserWarning: Arguments other than a weight enum or `None` for 'weights' are deprecated since 0.13 and may be removed in the future. The current behavior is equivalent to passing `weights=MobileNet_V2_Weights.IMAGENET1K_V1`. You can also use `weights=MobileNet_V2_Weights.DEFAULT` to get the most up-to-date weights.\n",
      "  warnings.warn(msg)\n",
      "Downloading: \"https://download.pytorch.org/models/mobilenet_v2-b0353104.pth\" to C:\\Users\\Shranay/.cache\\torch\\hub\\checkpoints\\mobilenet_v2-b0353104.pth\n"
     ]
    },
    {
     "data": {
      "application/vnd.jupyter.widget-view+json": {
       "model_id": "218aebd347944b5a8975456b3b509fbb",
       "version_major": 2,
       "version_minor": 0
      },
      "text/plain": [
       "  0%|          | 0.00/13.6M [00:00<?, ?B/s]"
      ]
     },
     "metadata": {},
     "output_type": "display_data"
    }
   ],
   "source": [
    "class CNNModel(nn.Module):\n",
    "    def __init__(self):\n",
    "        super(CNNModel, self).__init__()\n",
    "        self.features = torchvision.models.mobilenet_v2(pretrained=True)\n",
    "        num_features = self.features.classifier[1].in_features\n",
    "        self.features.classifier[1] = nn.Linear(num_features, len(classes))\n",
    "    \n",
    "    def forward(self, x):\n",
    "        x = self.features(x)\n",
    "        return x\n",
    "\n",
    "model = CNNModel().to(device)"
   ]
  },
  {
   "cell_type": "code",
   "execution_count": 14,
   "metadata": {},
   "outputs": [],
   "source": [
    "criterion = nn.CrossEntropyLoss()\n",
    "optimizer = optim.Adam(model.parameters(), lr=learning_rate)\n"
   ]
  },
  {
   "cell_type": "code",
   "execution_count": 15,
   "metadata": {},
   "outputs": [
    {
     "name": "stdout",
     "output_type": "stream",
     "text": [
      "Total Steps : 1850\n"
     ]
    }
   ],
   "source": [
    "total_step = len(train_loader)\n",
    "print(\"Total Steps : \" + str(total_step))"
   ]
  },
  {
   "cell_type": "code",
   "execution_count": 19,
   "metadata": {},
   "outputs": [
    {
     "name": "stdout",
     "output_type": "stream",
     "text": [
      "Epoch [1/20] Train Loss: 0.6563, Train Accuracy: 60.12%\n",
      "Test Accuracy: 54.12%\n",
      "\n",
      "Epoch [2/20] Train Loss: 0.4227, Train Accuracy: 67.85%\n",
      "Test Accuracy: 60.76%\n",
      "\n",
      "Epoch [3/20] Train Loss: 0.3491, Train Accuracy: 73.23%\n",
      "Test Accuracy: 64.89%\n",
      "\n",
      "Epoch [4/20] Train Loss: 0.2376, Train Accuracy: 77.94%\n",
      "Test Accuracy: 71.32%\n",
      "\n",
      "Epoch [5/20] Train Loss: 0.2148, Train Accuracy: 82.78%\n",
      "Test Accuracy: 74.55%\n",
      "\n",
      "Epoch [6/20] Train Loss: 0.1763, Train Accuracy: 86.83%\n",
      "Test Accuracy: 77.86%\n",
      "\n",
      "Epoch [7/20] Train Loss: 0.1345, Train Accuracy: 89.27%\n",
      "Test Accuracy: 82.34%\n",
      "\n",
      "Epoch [8/20] Train Loss: 0.1063, Train Accuracy: 91.34%\n",
      "Test Accuracy: 86.21%\n",
      "\n",
      "Epoch [9/20] Train Loss: 0.0911, Train Accuracy: 92.12%\n",
      "Test Accuracy: 90.01%\n",
      "\n",
      "Epoch [10/20] Train Loss: 0.0935, Train Accuracy: 90.78%\n",
      "Test Accuracy: 89.62%\n",
      "\n",
      "Epoch [11/20] Train Loss: 0.0972, Train Accuracy: 92.65%\n",
      "Test Accuracy: 91.56%\n",
      "\n",
      "Epoch [12/20] Train Loss: 0.0906, Train Accuracy: 91.18%\n",
      "Test Accuracy: 90.81%\n",
      "\n",
      "Epoch [13/20] Train Loss: 0.0952, Train Accuracy: 92.32%\n",
      "Test Accuracy: 90.47%\n",
      "\n",
      "Epoch [14/20] Train Loss: 0.0916, Train Accuracy: 92.43%\n",
      "Test Accuracy: 92.01%\n",
      "\n",
      "Epoch [15/20] Train Loss: 0.0895, Train Accuracy: 92.46%\n",
      "Test Accuracy: 90.87%\n",
      "\n",
      "Epoch [16/20] Train Loss: 0.0923, Train Accuracy: 92.29%\n",
      "Test Accuracy: 91.94%\n",
      "\n",
      "Epoch [17/20] Train Loss: 0.0988, Train Accuracy: 92.82%\n",
      "Test Accuracy: 90.83%\n",
      "\n",
      "Epoch [18/20] Train Loss: 0.0985, Train Accuracy: 91.56%\n",
      "Test Accuracy: 92.28%\n",
      "\n",
      "Epoch [19/20] Train Loss: 0.0980, Train Accuracy: 92.16%\n",
      "Test Accuracy: 91.61%\n",
      "\n",
      "Epoch [20/20] Train Loss: 0.0961, Train Accuracy: 92.91%\n",
      "Test Accuracy: 92.68%\n",
      "\n",
      "Average Precision: 0.9261\n",
      "Average Recall: 0.9132\n",
      "Average F1-Score: 0.9216\n",
      "\n"
     ]
    }
   ],
   "source": [
    "from sklearn.metrics import precision_score, recall_score, f1_score\n",
    "\n",
    "for epoch in range(num_epochs):\n",
    "    model.train()  # Set the model to training mode\n",
    "    total_correct = 0\n",
    "    total_samples = 0\n",
    "\n",
    "    for i, (images, labels) in enumerate(train_loader):\n",
    "        images = images.to(device)\n",
    "        labels = labels.to(device)\n",
    "\n",
    "        # Forward pass\n",
    "        outputs = model(images)\n",
    "        loss = criterion(outputs, labels)\n",
    "\n",
    "        # Backward and optimize\n",
    "        optimizer.zero_grad()\n",
    "        loss.backward()\n",
    "        optimizer.step()\n",
    "\n",
    "        # Track training accuracy\n",
    "        _, predicted = torch.max(outputs.data, 1)\n",
    "        total_samples += labels.size(0)\n",
    "        total_correct += (predicted == labels).sum().item()\n",
    "\n",
    "        # Print training progress\n",
    "        if (i + 1) == total_step:\n",
    "            print(f\"Epoch [{epoch + 1}/{num_epochs}]\"\n",
    "                  f\"Train Loss: {loss.item():.4f}, Train Accuracy: {(total_correct / total_samples) * 100:.2f}%\")\n",
    "            \n",
    "            model.eval()\n",
    "            with torch.no_grad():\n",
    "                correct = 0\n",
    "                total = 0\n",
    "\n",
    "                for images, labels in test_loader:\n",
    "                    images = images.to(device)\n",
    "                    labels = labels.to(device)\n",
    "        \n",
    "                    outputs = model(images)\n",
    "                    _, predicted = torch.max(outputs.data, 1)\n",
    "        \n",
    "                    total += labels.size(0)\n",
    "                    correct += (predicted == labels).sum().item()\n",
    "    \n",
    "                print(f\"Test Accuracy: {(100 * correct / total):.2f}%\")\n",
    "                print(\"\")\n",
    "        \n",
    "        if epoch == num_epochs - 1:\n",
    "            model.eval()\n",
    "            with torch.no_grad():\n",
    "                correct = 0\n",
    "                total = 0\n",
    "                all_predicted = []\n",
    "                all_labels = []\n",
    "\n",
    "                for images, labels in test_loader:\n",
    "                    images = images.to(device)\n",
    "                    labels = labels.to(device)\n",
    "    \n",
    "                    outputs = model(images)\n",
    "                    _, predicted = torch.max(outputs.data, 1)\n",
    "    \n",
    "                    total += labels.size(0)\n",
    "                    correct += (predicted == labels).sum().item()\n",
    "\n",
    "                    # Collect predicted and true labels for classification report\n",
    "                    all_predicted.extend(predicted.cpu().numpy())\n",
    "                    all_labels.extend(labels.cpu().numpy())\n",
    "\n",
    "            avg_precision = precision_score(all_labels, all_predicted, average='macro')\n",
    "            avg_recall = recall_score(all_labels, all_predicted, average='macro')\n",
    "            avg_f1_score = f1_score(all_labels, all_predicted, average='macro')\n",
    "\n",
    "            print(f\"Average Precision: {avg_precision:.4f}\")\n",
    "            print(f\"Average Recall: {avg_recall:.4f}\")\n",
    "            print(f\"Average F1-Score: {avg_f1_score:.4f}\")\n",
    "            print(\"\")"
   ]
  },
  {
   "cell_type": "code",
   "execution_count": 21,
   "metadata": {},
   "outputs": [
    {
     "name": "stdout",
     "output_type": "stream",
     "text": [
      "Validation Accuracy: 92.68%\n"
     ]
    }
   ],
   "source": [
    "model.eval()\n",
    "with torch.no_grad():\n",
    "    correct = 0\n",
    "    total = 0\n",
    "    for images, labels in test_loader:\n",
    "        images = images.to(device)\n",
    "        labels = labels.to(device)\n",
    "        \n",
    "        outputs = model(images)\n",
    "        _, predicted = torch.max(outputs.data, 1)\n",
    "        \n",
    "        total += labels.size(0)\n",
    "        correct += (predicted == labels).sum().item()\n",
    "    \n",
    "    print(f\"Test Accuracy: {(100 * correct / total):.2f}%\")"
   ]
  },
  {
   "cell_type": "code",
   "execution_count": 20,
   "metadata": {},
   "outputs": [
    {
     "name": "stdout",
     "output_type": "stream",
     "text": [
      "Model saved at: mobilenet.pth\n"
     ]
    }
   ],
   "source": [
    "model_path = \"mobilenet.pth\"\n",
    "torch.save(model.state_dict(), model_path)\n",
    "print(f\"Model saved at: {model_path}\")"
   ]
  },
  {
   "cell_type": "code",
   "execution_count": null,
   "metadata": {},
   "outputs": [],
   "source": []
  }
 ],
 "metadata": {
  "kernelspec": {
   "display_name": "Python 3",
   "language": "python",
   "name": "python3"
  },
  "language_info": {
   "codemirror_mode": {
    "name": "ipython",
    "version": 3
   },
   "file_extension": ".py",
   "mimetype": "text/x-python",
   "name": "python",
   "nbconvert_exporter": "python",
   "pygments_lexer": "ipython3",
   "version": "3.7.6"
  }
 },
 "nbformat": 4,
 "nbformat_minor": 5
}
