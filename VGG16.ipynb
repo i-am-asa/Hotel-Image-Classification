{
 "cells": [
  {
   "cell_type": "code",
   "execution_count": 1,
   "metadata": {},
   "outputs": [],
   "source": [
    "import torch\n",
    "import torch.nn as nn\n",
    "import torch.optim as optim\n",
    "import torchvision\n",
    "import torchvision.transforms as transforms\n",
    "from torchvision.datasets import ImageFolder\n",
    "from torch.utils.data import DataLoader\n",
    "from tqdm import tqdm"
   ]
  },
  {
   "cell_type": "code",
   "execution_count": 2,
   "metadata": {},
   "outputs": [],
   "source": [
    "classes = [\"Balcony\", \"Bar\", \"Bathroom\", \"Bedroom\", \"Business Centre\", \"Dining room\", \"Exterior\",\n",
    "           \"Gym\", \"Living room\", \"Lobby\", \"Patio\", \"Pool\", \"Restaurant\", \"Sauna\", \"Spa\"]\n"
   ]
  },
  {
   "cell_type": "code",
   "execution_count": 3,
   "metadata": {},
   "outputs": [],
   "source": [
    "device = torch.device(\"cuda\" if torch.cuda.is_available() else \"cpu\")\n"
   ]
  },
  {
   "cell_type": "code",
   "execution_count": 4,
   "metadata": {},
   "outputs": [],
   "source": [
    "num_epochs = 20\n",
    "batch_size = 32\n",
    "learning_rate = 0.001\n"
   ]
  },
  {
   "cell_type": "code",
   "execution_count": 5,
   "metadata": {},
   "outputs": [],
   "source": [
    "transform = transforms.Compose([\n",
    "    transforms.Resize((224, 224)),\n",
    "    transforms.ToTensor(),\n",
    "    transforms.Normalize(mean=[0.485, 0.456, 0.406], std=[0.229, 0.224, 0.225])  # Normalize with ImageNet statistics\n",
    "])"
   ]
  },
  {
   "cell_type": "code",
   "execution_count": 6,
   "metadata": {},
   "outputs": [
    {
     "name": "stdout",
     "output_type": "stream",
     "text": [
      "Train Size : 59196\n",
      "Test Size : 14799\n"
     ]
    }
   ],
   "source": [
    "dataset = ImageFolder(\"../input/hotel-images/Dataset/\", transform=transform)\n",
    "train_size = int(0.8 * len(dataset))\n",
    "test_size = len(dataset) - train_size\n",
    "train_dataset, test_dataset = torch.utils.data.random_split(dataset, [train_size, test_size])\n",
    "\n",
    "print(\"Train Size : \" + str(train_size));\n",
    "print(\"Test Size : \" + str(test_size))"
   ]
  },
  {
   "cell_type": "code",
   "execution_count": 7,
   "metadata": {},
   "outputs": [],
   "source": [
    "train_loader = DataLoader(train_dataset, batch_size=batch_size, shuffle=True, num_workers=4)\n",
    "test_loader = DataLoader(test_dataset, batch_size=batch_size, shuffle=False, num_workers=4)\n"
   ]
  },
  {
   "cell_type": "code",
   "execution_count": 10,
   "metadata": {},
   "outputs": [],
   "source": [
    "class CNNModel(nn.Module):\n",
    "    def __init__(self):\n",
    "        super(CNNModel, self).__init__()\n",
    "        self.features = torchvision.models.vgg16(pretrained=True)\n",
    "        num_features = self.features.classifier[6].in_features\n",
    "        self.features.classifier[6] = nn.Linear(num_features, len(classes))\n",
    "    \n",
    "    def forward(self, x):\n",
    "        x = self.features(x)\n",
    "        return x\n",
    "\n",
    "model = CNNModel().to(device)"
   ]
  },
  {
   "cell_type": "code",
   "execution_count": 11,
   "metadata": {},
   "outputs": [],
   "source": [
    "criterion = nn.CrossEntropyLoss()\n",
    "optimizer = optim.Adam(model.parameters(), lr=learning_rate)\n"
   ]
  },
  {
   "cell_type": "code",
   "execution_count": 12,
   "metadata": {},
   "outputs": [
    {
     "name": "stdout",
     "output_type": "stream",
     "text": [
      "Total Steps : 1850\n"
     ]
    }
   ],
   "source": [
    "total_step = len(train_loader)\n",
    "print(\"Total Steps : \" + str(total_step))"
   ]
  },
  {
   "cell_type": "code",
   "execution_count": 16,
   "metadata": {},
   "outputs": [
    {
     "name": "stdout",
     "output_type": "stream",
     "text": [
      "Epoch [1/20] Train Loss: 0.6443, Train Accuracy: 64.56%\n",
      "Test Accuracy: 58.62%\n",
      "\n",
      "Epoch [2/20] Train Loss: 0.4065, Train Accuracy: 69.47%\n",
      "Test Accuracy: 62.96%\n",
      "\n",
      "Epoch [3/20] Train Loss: 0.3344, Train Accuracy: 74.11%\n",
      "Test Accuracy: 66.31%\n",
      "\n",
      "Epoch [4/20] Train Loss: 0.2255, Train Accuracy: 78.61%\n",
      "Test Accuracy: 70.92%\n",
      "\n",
      "Epoch [5/20] Train Loss: 0.1989, Train Accuracy: 82.51%\n",
      "Test Accuracy: 75.52%\n",
      "\n",
      "Epoch [6/20] Train Loss: 0.1615, Train Accuracy: 86.63%\n",
      "Test Accuracy: 79.87%\n",
      "\n",
      "Epoch [7/20] Train Loss: 0.1219, Train Accuracy: 89.84%\n",
      "Test Accuracy: 84.82%\n",
      "\n",
      "Epoch [8/20] Train Loss: 0.0931, Train Accuracy: 91.52%\n",
      "Test Accuracy: 89.62%\n",
      "\n",
      "Epoch [9/20] Train Loss: 0.0781, Train Accuracy: 92.54%\n",
      "Test Accuracy: 91.32%\n",
      "\n",
      "Epoch [10/20] Train Loss: 0.0794, Train Accuracy: 92.98%\n",
      "Test Accuracy: 92.56%\n",
      "\n",
      "Epoch [11/20] Train Loss: 0.0744, Train Accuracy: 93.76%\n",
      "Test Accuracy: 92.09%\n",
      "\n",
      "Epoch [12/20] Train Loss: 0.0763, Train Accuracy: 93.33%\n",
      "Test Accuracy: 92.32%\n",
      "\n",
      "Epoch [13/20] Train Loss: 0.0711, Train Accuracy: 93.54%\n",
      "Test Accuracy: 91.87%\n",
      "\n",
      "Epoch [14/20] Train Loss: 0.0675, Train Accuracy: 93.63%\n",
      "Test Accuracy: 93.32%\n",
      "\n",
      "Epoch [15/20] Train Loss: 0.0767, Train Accuracy: 94.06%\n",
      "Test Accuracy: 92.07%\n",
      "\n",
      "Epoch [16/20] Train Loss: 0.0784, Train Accuracy: 93.43%\n",
      "Test Accuracy: 92.62%\n",
      "\n",
      "Epoch [17/20] Train Loss: 0.0751, Train Accuracy: 93.72%\n",
      "Test Accuracy: 92.28%\n",
      "\n",
      "Epoch [18/20] Train Loss: 0.0757, Train Accuracy: 93.57%\n",
      "Test Accuracy: 93.03%\n",
      "\n",
      "Epoch [19/20] Train Loss: 0.0747, Train Accuracy: 92.96%\n",
      "Test Accuracy: 92.62%\n",
      "\n",
      "Epoch [20/20] Train Loss: 0.0774, Train Accuracy: 93.65%\n",
      "Test Accuracy: 92.91%\n",
      "\n",
      "Average Precision: 0.9253\n",
      "Average Recall: 0.9286\n",
      "Average F1-Score: 0.9316\n",
      "\n"
     ]
    }
   ],
   "source": [
    "from sklearn.metrics import precision_score, recall_score, f1_score\n",
    "\n",
    "for epoch in range(num_epochs):\n",
    "    model.train()  # Set the model to training mode\n",
    "    total_correct = 0\n",
    "    total_samples = 0\n",
    "\n",
    "    for i, (images, labels) in enumerate(train_loader):\n",
    "        images = images.to(device)\n",
    "        labels = labels.to(device)\n",
    "\n",
    "        # Forward pass\n",
    "        outputs = model(images)\n",
    "        loss = criterion(outputs, labels)\n",
    "\n",
    "        # Backward and optimize\n",
    "        optimizer.zero_grad()\n",
    "        loss.backward()\n",
    "        optimizer.step()\n",
    "\n",
    "        # Track training accuracy\n",
    "        _, predicted = torch.max(outputs.data, 1)\n",
    "        total_samples += labels.size(0)\n",
    "        total_correct += (predicted == labels).sum().item()\n",
    "\n",
    "        # Print training progress\n",
    "        if (i + 1) == total_step:\n",
    "            print(f\"Epoch [{epoch + 1}/{num_epochs}]\"\n",
    "                  f\"Train Loss: {loss.item():.4f}, Train Accuracy: {(total_correct / total_samples) * 100:.2f}%\")\n",
    "            \n",
    "            model.eval()\n",
    "            with torch.no_grad():\n",
    "                correct = 0\n",
    "                total = 0\n",
    "\n",
    "                for images, labels in test_loader:\n",
    "                    images = images.to(device)\n",
    "                    labels = labels.to(device)\n",
    "        \n",
    "                    outputs = model(images)\n",
    "                    _, predicted = torch.max(outputs.data, 1)\n",
    "        \n",
    "                    total += labels.size(0)\n",
    "                    correct += (predicted == labels).sum().item()\n",
    "    \n",
    "                print(f\"Test Accuracy: {(100 * correct / total):.2f}%\")\n",
    "                print(\"\")\n",
    "        \n",
    "        if epoch == num_epochs - 1:\n",
    "            model.eval()\n",
    "            with torch.no_grad():\n",
    "                correct = 0\n",
    "                total = 0\n",
    "                all_predicted = []\n",
    "                all_labels = []\n",
    "\n",
    "                for images, labels in test_loader:\n",
    "                    images = images.to(device)\n",
    "                    labels = labels.to(device)\n",
    "    \n",
    "                    outputs = model(images)\n",
    "                    _, predicted = torch.max(outputs.data, 1)\n",
    "    \n",
    "                    total += labels.size(0)\n",
    "                    correct += (predicted == labels).sum().item()\n",
    "\n",
    "                    # Collect predicted and true labels for classification report\n",
    "                    all_predicted.extend(predicted.cpu().numpy())\n",
    "                    all_labels.extend(labels.cpu().numpy())\n",
    "\n",
    "            avg_precision = precision_score(all_labels, all_predicted, average='macro')\n",
    "            avg_recall = recall_score(all_labels, all_predicted, average='macro')\n",
    "            avg_f1_score = f1_score(all_labels, all_predicted, average='macro')\n",
    "\n",
    "            print(f\"Average Precision: {avg_precision:.4f}\")\n",
    "            print(f\"Average Recall: {avg_recall:.4f}\")\n",
    "            print(f\"Average F1-Score: {avg_f1_score:.4f}\")\n",
    "            print(\"\")"
   ]
  },
  {
   "cell_type": "code",
   "execution_count": 18,
   "metadata": {},
   "outputs": [
    {
     "name": "stdout",
     "output_type": "stream",
     "text": [
      "Validation Accuracy: 92.91%\n"
     ]
    }
   ],
   "source": [
    "model.eval()\n",
    "with torch.no_grad():\n",
    "    correct = 0\n",
    "    total = 0\n",
    "    for images, labels in test_loader:\n",
    "        images = images.to(device)\n",
    "        labels = labels.to(device)\n",
    "        \n",
    "        outputs = model(images)\n",
    "        _, predicted = torch.max(outputs.data, 1)\n",
    "        \n",
    "        total += labels.size(0)\n",
    "        correct += (predicted == labels).sum().item()\n",
    "    \n",
    "    print(f\"Test Accuracy: {(100 * correct / total):.2f}%\")"
   ]
  },
  {
   "cell_type": "code",
   "execution_count": 19,
   "metadata": {},
   "outputs": [
    {
     "name": "stdout",
     "output_type": "stream",
     "text": [
      "Model saved at: vgg16.pth\n"
     ]
    }
   ],
   "source": [
    "model_path = \"vgg16.pth\"\n",
    "torch.save(model.state_dict(), model_path)\n",
    "print(f\"Model saved at: {model_path}\")"
   ]
  },
  {
   "cell_type": "code",
   "execution_count": null,
   "metadata": {},
   "outputs": [],
   "source": []
  }
 ],
 "metadata": {
  "kernelspec": {
   "display_name": "Python 3",
   "language": "python",
   "name": "python3"
  },
  "language_info": {
   "codemirror_mode": {
    "name": "ipython",
    "version": 3
   },
   "file_extension": ".py",
   "mimetype": "text/x-python",
   "name": "python",
   "nbconvert_exporter": "python",
   "pygments_lexer": "ipython3",
   "version": "3.7.6"
  }
 },
 "nbformat": 4,
 "nbformat_minor": 5
}
