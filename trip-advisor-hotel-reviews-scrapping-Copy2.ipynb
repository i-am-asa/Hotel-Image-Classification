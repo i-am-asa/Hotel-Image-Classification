{
 "cells": [
  {
   "cell_type": "code",
   "execution_count": 1,
   "metadata": {
    "_kg_hide-input": false,
    "_kg_hide-output": true,
    "execution": {
     "iopub.execute_input": "2022-02-14T04:10:09.668169Z",
     "iopub.status.busy": "2022-02-14T04:10:09.667507Z",
     "iopub.status.idle": "2022-02-14T04:10:53.734241Z",
     "shell.execute_reply": "2022-02-14T04:10:53.733287Z",
     "shell.execute_reply.started": "2022-02-14T03:37:59.144222Z"
    },
    "papermill": {
     "duration": 44.081623,
     "end_time": "2022-02-14T04:10:53.734468",
     "exception": false,
     "start_time": "2022-02-14T04:10:09.652845",
     "status": "completed"
    },
    "tags": []
   },
   "outputs": [],
   "source": [
    "# !apt install chromium-chromedriver -y #install chrome driver\n",
    "# !cp /usr/lib/chromium-browser/chromedriver /usr/bin\n",
    "# !pip install beautifulsoup4           #install beautiful soup\n",
    "import pandas as pd\n",
    "import sys\n",
    "import time\n",
    "from selenium import webdriver"
   ]
  },
  {
   "cell_type": "code",
   "execution_count": 2,
   "metadata": {
    "execution": {
     "iopub.execute_input": "2022-02-14T04:10:53.839720Z",
     "iopub.status.busy": "2022-02-14T04:10:53.838986Z",
     "iopub.status.idle": "2022-02-14T04:10:54.550917Z",
     "shell.execute_reply": "2022-02-14T04:10:54.550264Z",
     "shell.execute_reply.started": "2022-02-14T04:08:23.390048Z"
    },
    "papermill": {
     "duration": 0.768943,
     "end_time": "2022-02-14T04:10:54.551106",
     "exception": false,
     "start_time": "2022-02-14T04:10:53.782163",
     "status": "completed"
    },
    "tags": []
   },
   "outputs": [
    {
     "name": "stderr",
     "output_type": "stream",
     "text": [
      "A subdirectory or file test_images already exists.\n"
     ]
    }
   ],
   "source": [
    "!mkdir test_images"
   ]
  },
  {
   "cell_type": "code",
   "execution_count": 3,
   "metadata": {},
   "outputs": [],
   "source": [
    "import sys\n",
    "import csv\n",
    "import time\n",
    "import urllib.request\n",
    "\n",
    "# default path to file to store data\n",
    "path_to_file = \"reviews.csv\"\n",
    "\n",
    "total_photos = 0"
   ]
  },
  {
   "cell_type": "code",
   "execution_count": 4,
   "metadata": {},
   "outputs": [],
   "source": [
    "# Import the webdriver\n",
    "from selenium.webdriver.chrome.options import Options\n",
    "from selenium.webdriver.common.by import By\n",
    "chrome_options = Options()\n",
    "#chrome_options.add_argument('--headless')\n",
    "chrome_options.add_argument('--no-sandbox')\n",
    "chrome_options.add_argument('--disable-dev-shm-usage')\n",
    "driver = webdriver.Chrome(executable_path='C:\\webdrivers\\chromedriver.exe', options=chrome_options)\n"
   ]
  },
  {
   "cell_type": "code",
   "execution_count": 7,
   "metadata": {
    "execution": {
     "iopub.execute_input": "2022-02-14T04:10:54.661863Z",
     "iopub.status.busy": "2022-02-14T04:10:54.651239Z",
     "iopub.status.idle": "2022-02-14T04:12:44.315543Z",
     "shell.execute_reply": "2022-02-14T04:12:44.314494Z",
     "shell.execute_reply.started": "2022-02-14T04:07:20.443843Z"
    },
    "papermill": {
     "duration": 109.716428,
     "end_time": "2022-02-14T04:12:44.315786",
     "exception": false,
     "start_time": "2022-02-14T04:10:54.599358",
     "status": "completed"
    },
    "tags": []
   },
   "outputs": [
    {
     "name": "stdout",
     "output_type": "stream",
     "text": [
      "The Montague on The Gardens\n",
      "2270\n",
      "<selenium.webdriver.remote.webelement.WebElement (session=\"0f7a3094472d5add2220bfa59110f24f\", element=\"ee5a1a9d-cbb2-44ec-aed0-2346d2606fd7\")>\n",
      "Hotel 41\n",
      "2476\n",
      "<selenium.webdriver.remote.webelement.WebElement (session=\"0f7a3094472d5add2220bfa59110f24f\", element=\"142df6fa-edc7-4e84-8941-69649d856e59\")>\n",
      "Windermere Boutique Hotel\n",
      "1661\n",
      "<selenium.webdriver.remote.webelement.WebElement (session=\"0f7a3094472d5add2220bfa59110f24f\", element=\"8caa515c-39e5-41b7-b263-5e11892889f4\")>\n",
      "The Milestone Hotel and Residences\n",
      "1687\n",
      "<selenium.webdriver.remote.webelement.WebElement (session=\"0f7a3094472d5add2220bfa59110f24f\", element=\"26cfcdf6-4090-4094-9a62-a6259964cab0\")>\n",
      "Royal Lancaster London\n",
      "1381\n",
      "<selenium.webdriver.remote.webelement.WebElement (session=\"0f7a3094472d5add2220bfa59110f24f\", element=\"2a1b59a9-909c-4c82-90c3-ca047bf6c189\")>\n",
      "Fingal\n",
      "1188\n",
      "<selenium.webdriver.remote.webelement.WebElement (session=\"0f7a3094472d5add2220bfa59110f24f\", element=\"0903a16b-aef2-4976-9c75-1a86119de85c\")>\n",
      "The Hari\n",
      "770\n",
      "<selenium.webdriver.remote.webelement.WebElement (session=\"0f7a3094472d5add2220bfa59110f24f\", element=\"fe5f66f1-2c96-4923-ae4e-193fcbb7c975\")>\n",
      "The Roseate Villa Bath\n",
      "854\n",
      "<selenium.webdriver.remote.webelement.WebElement (session=\"0f7a3094472d5add2220bfa59110f24f\", element=\"7ead028b-6a0b-41a6-87aa-4c4af84b0877\")>\n",
      "Craigatin House & Courtyard\n",
      "855\n",
      "<selenium.webdriver.remote.webelement.WebElement (session=\"0f7a3094472d5add2220bfa59110f24f\", element=\"5806f5fc-8d61-434a-a56d-885ff52de4c8\")>\n",
      "The Kennard\n",
      "496\n",
      "<selenium.webdriver.remote.webelement.WebElement (session=\"0f7a3094472d5add2220bfa59110f24f\", element=\"dbb232b6-404f-4921-9701-ddfd17350606\")>\n"
     ]
    }
   ],
   "source": [
    "urls = [\"https://www.tripadvisor.in/Hotel_Review-g186338-d192036-Reviews-The_Montague_on_The_Gardens-London_England.html\",\n",
    "       \"https://www.tripadvisor.in/Hotel_Review-g186338-d188961-Reviews-Hotel_41-London_England.html\",\n",
    "        \"https://www.tripadvisor.in/Hotel_Review-g186330-d279582-Reviews-Windermere_Boutique_Hotel-Windermere_Lake_District_Cumbria_England.html\",\n",
    "       \"https://www.tripadvisor.in/Hotel_Review-g186338-d193121-Reviews-The_Milestone_Hotel_and_Residences-London_England.html\",\n",
    "       \"https://www.tripadvisor.in/Hotel_Review-g186338-d195284-Reviews-Royal_Lancaster_London-London_England.html\",\n",
    "       \"https://www.tripadvisor.in/Hotel_Review-g186525-d15380085-Reviews-Fingal-Edinburgh_Scotland.html\",\n",
    "       \"https://www.tripadvisor.in/Hotel_Review-g186338-d2413342-Reviews-The_Hari-London_England.html\",\n",
    "       \"https://www.tripadvisor.in/Hotel_Review-g186370-d193306-Reviews-The_Roseate_Villa_Bath-Bath_Somerset_England.html\",\n",
    "        \"https://www.tripadvisor.in/Hotel_Review-g186566-d501257-Reviews-Craigatin_House_Courtyard-Pitlochry_Perth_and_Kinross_Scotland.html\",\n",
    "        \"https://www.tripadvisor.in/Hotel_Review-g186370-d191735-Reviews-The_Kennard-Bath_Somerset_England.html\"]\n",
    "\n",
    "# Open the file to save the review\n",
    "csvFile = open(path_to_file, 'w', encoding=\"utf-8\")\n",
    "csvWriter = csv.writer(csvFile)\n",
    "csvWriter.writerow(['id', 'filename', 'img_url', 'traveller_name', 'date', 'hotel_name', 'review_title', 'review_text', 'rating'])\n",
    "id = 0\n",
    "start=time.time()\n",
    "for url in urls:\n",
    "\n",
    "  driver.get(url)\n",
    "  hotel_name = driver.find_element(By.XPATH,'//*[@id=\"HEADING\"]').text\n",
    "  print(hotel_name)\n",
    "  num_photos_text = driver.find_element(By.XPATH,'//*[@id=\"component_41\"]/div/div[1]/div/div[1]/div/div[5]/div/span[2]/span[2]').text\n",
    "  num_photos = num_photos_text[1:-1]\n",
    "  num_photos = int(num_photos.replace(',', ''))\n",
    "  total_photos = total_photos + num_photos\n",
    "  print(num_photos)\n",
    "    \n",
    "    \n",
    "  traveller_photos_tile = driver.find_element(By.XPATH,'//*[@id=\"component_41\"]/div/div[1]/div/div[1]/div/div[5]/div/span[2]/span[1]')\n",
    "  driver.execute_script(\"arguments[0].click();\", traveller_photos_tile)\n",
    "  print(traveller_photos_tile)\n",
    "  time.sleep(2)\n",
    "  \n",
    "  first_photo = driver.find_element(By.XPATH,'//*[@id=\"component_30\"]/div/div[2]/div[2]/div/div[2]/div[2]/div[2]/div[1]/div/div/div[1]/div/div[3]')\n",
    "  driver.execute_script(\"arguments[0].click();\", first_photo)  \n",
    "  time.sleep(1)\n",
    "  \n",
    "  # expand the dialog for traveller photos \n",
    "  for j in range(2):        \n",
    "      img_url = driver.find_element(By.XPATH,'//*[@id=\"component_30\"]/div/div[2]/div[2]/div/div[2]/div[2]/div[2]/div[2]/div[1]/div[3]/div[2]/div/div/div[1]/div/div/div/div/picture/img').get_attribute(\"src\")\n",
    "      filename = str(id)+\".jpg\"\n",
    "      urllib.request.urlretrieve(img_url, \"test_images/\" +filename)    \n",
    "      traveller_name = ''\n",
    "      traveller_date = ''\n",
    "      traveller_contributions = ''\n",
    "      try:\n",
    "        name_and_date = driver.find_element(By.XPATH,'//*[@id=\"component_30\"]/div/div[2]/div[2]/div/div[2]/div[2]/div[2]/div[2]/div[1]/div[3]/div[2]/div/div/div[3]/div[1]/div[1]/div[2]/span/a').text\n",
    "        traveller_name = name_and_date.split(\" • \")[0]\n",
    "        traveller_date = name_and_date.split(\" • \")[1]      \n",
    "        traveller_contributions = driver.find_element(By.XPATH,'//*[@id=\"component_30\"]/div/div[2]/div[2]/div/div[2]/div[2]/div[2]/div[2]/div[1]/div[3]/div[2]/div/div/div[3]/div[1]/div[1]/div[2]/div/div/div/span/span').text        \n",
    "      except:\n",
    "        name_and_date = ''\n",
    "      review_text = ''\n",
    "      review_title = ''      \n",
    "      rating = ''\n",
    "      try:\n",
    "        review_dialog_tile = driver.find_element(By.XPATH,'//*[@id=\"component_30\"]/div/div[2]/div[2]/div/div[2]/div[2]/div[2]/div[2]/div[1]/div[3]/div[2]/div/div/div[3]/div[2]/div[2]')\n",
    "        driver.execute_script(\"arguments[0].click();\", review_dialog_tile)     \n",
    "        time.sleep(1)\n",
    "        review_title = driver.find_element(By.XPATH,'//*[@id=\"component_30\"]/div/div[2]/div[2]/div/div[2]/div[2]/div[2]/div[2]/div[1]/div[3]/div[2]/div/div/div[3]/div[2]/div[3]/div/div[2]/div[2]/span').text\n",
    "        review_text = driver.find_element(By.XPATH,'//*[@id=\"component_30\"]/div/div[2]/div[2]/div/div[2]/div[2]/div[2]/div[2]/div[1]/div[3]/div[2]/div/div/div[3]/div[2]/div[3]/div/div[2]/div[2]/p').text\n",
    "        ratingBox = driver.find_element(By.XPATH,'//*[@id=\"component_30\"]/div/div[2]/div[2]/div/div[2]/div[2]/div[2]/div[2]/div[1]/div[3]/div[2]/div/div/div[3]/div[2]/div[3]/div/div[2]/div[1]')\n",
    "        rating = ratingBox.find_element(By.XPATH,'.//*[local-name() = \\'svg\\']').get_attribute('aria-label')[:-13]\n",
    "      except:\n",
    "        review_text = ''\n",
    "      csvWriter.writerow([id, filename, img_url, traveller_name, traveller_date, hotel_name, review_title, review_text, rating ]) \n",
    "      id = id + 1      \n",
    "      try:\n",
    "        next_button = driver.find_element(By.XPATH,'//*[@id=\"component_30\"]/div/div[2]/div[2]/div/div[2]/div[2]/div[2]/div[2]/div[1]/div[2]/button')\n",
    "        driver.execute_script(\"arguments[0].click();\", next_button)\n",
    "        time.sleep(0.1)\n",
    "        if id % 10 == 0:\n",
    "            print(id, time.time()-start)        \n",
    "      except:\n",
    "        continue\n",
    "\n",
    "driver.close()\n",
    "\n",
    "print(\"Total Photos: \", total_photos)"
   ]
  },
  {
   "cell_type": "code",
   "execution_count": null,
   "metadata": {},
   "outputs": [],
   "source": []
  }
 ],
 "metadata": {
  "kernelspec": {
   "display_name": "Python 3",
   "language": "python",
   "name": "python3"
  },
  "language_info": {
   "codemirror_mode": {
    "name": "ipython",
    "version": 3
   },
   "file_extension": ".py",
   "mimetype": "text/x-python",
   "name": "python",
   "nbconvert_exporter": "python",
   "pygments_lexer": "ipython3",
   "version": "3.7.6"
  },
  "papermill": {
   "default_parameters": {},
   "duration": 165.072835,
   "end_time": "2022-02-14T04:12:45.715500",
   "environment_variables": {},
   "exception": null,
   "input_path": "__notebook__.ipynb",
   "output_path": "__notebook__.ipynb",
   "parameters": {},
   "start_time": "2022-02-14T04:10:00.642665",
   "version": "2.3.3"
  }
 },
 "nbformat": 4,
 "nbformat_minor": 5
}
